{
 "cells": [
  {
   "cell_type": "markdown",
   "metadata": {},
   "source": [
    "# Bhagavad Gita and Patanjali Yoga Sutras Analysis System\n",
    "\n",
    "This notebook implements a system for retrieving and summarizing verses from the Bhagavad Gita and Patanjali Yoga Sutras based on user queries. The system uses modern NLP techniques including TF-IDF vectorization for text matching and T5 transformer for summary generation.\n",
    "\n",
    "## Key Features\n",
    "- Query-based verse retrieval from sacred texts\n",
    "- Intelligent matching using TF-IDF and cosine similarity\n",
    "- Automatic summary generation\n",
    "- Bilingual support (Sanskrit and English)\n",
    "- Performance evaluation metrics\n",
    "\n",
    "## Prerequisites\n",
    "- Python 3.10+\n",
    "- Transformers library\n",
    "- scikit-learn\n",
    "- pandas\n",
    "- torch\n",
    "- numpy"
   ]
  },
  {
   "cell_type": "code",
   "execution_count": 11,
   "metadata": {
    "_cell_guid": "b1076dfc-b9ad-4769-8c92-a6c4dae69d19",
    "_uuid": "8f2839f25d086af736a60e9eeb907d3b93b6e0e5",
    "execution": {
     "iopub.execute_input": "2025-01-12T20:17:14.913811Z",
     "iopub.status.busy": "2025-01-12T20:17:14.913424Z",
     "iopub.status.idle": "2025-01-12T20:17:36.324204Z",
     "shell.execute_reply": "2025-01-12T20:17:36.322564Z",
     "shell.execute_reply.started": "2025-01-12T20:17:14.913783Z"
    },
    "trusted": true
   },
   "outputs": [
    {
     "name": "stdout",
     "output_type": "stream",
     "text": [
      "Requirement already satisfied: transformers in /usr/local/lib/python3.10/dist-packages (4.44.2)\n",
      "Requirement already satisfied: filelock in /usr/local/lib/python3.10/dist-packages (from transformers) (3.16.1)\n",
      "Requirement already satisfied: huggingface-hub<1.0,>=0.23.2 in /usr/local/lib/python3.10/dist-packages (from transformers) (0.24.7)\n",
      "Requirement already satisfied: numpy>=1.17 in /usr/local/lib/python3.10/dist-packages (from transformers) (1.26.4)\n",
      "Requirement already satisfied: packaging>=20.0 in /usr/local/lib/python3.10/dist-packages (from transformers) (24.1)\n",
      "Requirement already satisfied: pyyaml>=5.1 in /usr/local/lib/python3.10/dist-packages (from transformers) (6.0.2)\n",
      "Requirement already satisfied: regex!=2019.12.17 in /usr/local/lib/python3.10/dist-packages (from transformers) (2024.9.11)\n",
      "Requirement already satisfied: requests in /usr/local/lib/python3.10/dist-packages (from transformers) (2.32.3)\n",
      "Requirement already satisfied: safetensors>=0.4.1 in /usr/local/lib/python3.10/dist-packages (from transformers) (0.4.5)\n",
      "Requirement already satisfied: tokenizers<0.20,>=0.19 in /usr/local/lib/python3.10/dist-packages (from transformers) (0.19.1)\n",
      "Requirement already satisfied: tqdm>=4.27 in /usr/local/lib/python3.10/dist-packages (from transformers) (4.66.5)\n",
      "Requirement already satisfied: fsspec>=2023.5.0 in /usr/local/lib/python3.10/dist-packages (from huggingface-hub<1.0,>=0.23.2->transformers) (2024.6.1)\n",
      "Requirement already satisfied: typing-extensions>=3.7.4.3 in /usr/local/lib/python3.10/dist-packages (from huggingface-hub<1.0,>=0.23.2->transformers) (4.12.2)\n",
      "Requirement already satisfied: charset-normalizer<4,>=2 in /usr/local/lib/python3.10/dist-packages (from requests->transformers) (3.3.2)\n",
      "Requirement already satisfied: idna<4,>=2.5 in /usr/local/lib/python3.10/dist-packages (from requests->transformers) (3.10)\n",
      "Requirement already satisfied: urllib3<3,>=1.21.1 in /usr/local/lib/python3.10/dist-packages (from requests->transformers) (2.2.3)\n",
      "Requirement already satisfied: certifi>=2017.4.17 in /usr/local/lib/python3.10/dist-packages (from requests->transformers) (2024.8.30)\n",
      "Requirement already satisfied: scikit-learn in /usr/local/lib/python3.10/dist-packages (1.2.2)\n",
      "Requirement already satisfied: numpy>=1.17.3 in /usr/local/lib/python3.10/dist-packages (from scikit-learn) (1.26.4)\n",
      "Requirement already satisfied: scipy>=1.3.2 in /usr/local/lib/python3.10/dist-packages (from scikit-learn) (1.13.1)\n",
      "Requirement already satisfied: joblib>=1.1.1 in /usr/local/lib/python3.10/dist-packages (from scikit-learn) (1.4.2)\n",
      "Requirement already satisfied: threadpoolctl>=2.0.0 in /usr/local/lib/python3.10/dist-packages (from scikit-learn) (3.5.0)\n",
      "Requirement already satisfied: pandas in /usr/local/lib/python3.10/dist-packages (2.1.4)\n",
      "Requirement already satisfied: numpy<2,>=1.22.4 in /usr/local/lib/python3.10/dist-packages (from pandas) (1.26.4)\n",
      "Requirement already satisfied: python-dateutil>=2.8.2 in /usr/local/lib/python3.10/dist-packages (from pandas) (2.8.2)\n",
      "Requirement already satisfied: pytz>=2020.1 in /usr/local/lib/python3.10/dist-packages (from pandas) (2024.2)\n",
      "Requirement already satisfied: tzdata>=2022.1 in /usr/local/lib/python3.10/dist-packages (from pandas) (2024.1)\n",
      "Requirement already satisfied: six>=1.5 in /usr/local/lib/python3.10/dist-packages (from python-dateutil>=2.8.2->pandas) (1.16.0)\n",
      "Requirement already satisfied: numpy in /usr/local/lib/python3.10/dist-packages (1.26.4)\n",
      "Requirement already satisfied: torch in /usr/local/lib/python3.10/dist-packages (2.4.1+cu121)\n",
      "Requirement already satisfied: filelock in /usr/local/lib/python3.10/dist-packages (from torch) (3.16.1)\n",
      "Requirement already satisfied: typing-extensions>=4.8.0 in /usr/local/lib/python3.10/dist-packages (from torch) (4.12.2)\n",
      "Requirement already satisfied: sympy in /usr/local/lib/python3.10/dist-packages (from torch) (1.13.3)\n",
      "Requirement already satisfied: networkx in /usr/local/lib/python3.10/dist-packages (from torch) (3.3)\n",
      "Requirement already satisfied: jinja2 in /usr/local/lib/python3.10/dist-packages (from torch) (3.1.4)\n",
      "Requirement already satisfied: fsspec in /usr/local/lib/python3.10/dist-packages (from torch) (2024.6.1)\n",
      "Requirement already satisfied: MarkupSafe>=2.0 in /usr/local/lib/python3.10/dist-packages (from jinja2->torch) (2.1.5)\n",
      "Requirement already satisfied: mpmath<1.4,>=1.1.0 in /usr/local/lib/python3.10/dist-packages (from sympy->torch) (1.3.0)\n"
     ]
    }
   ],
   "source": [
    "# Install Transformers library for T5-base model\n",
    "!pip install transformers\n",
    "\n",
    "# Install scikit-learn for TF-IDF vectorization and similarity calculations\n",
    "!pip install scikit-learn\n",
    "\n",
    "# Install pandas for data handling\n",
    "!pip install pandas\n",
    "\n",
    "# Install other dependencies (if not already available)\n",
    "!pip install numpy\n",
    "!pip install torch"
   ]
  },
  {
   "cell_type": "code",
   "execution_count": null,
   "metadata": {
    "execution": {
     "iopub.execute_input": "2025-01-12T20:17:36.327193Z",
     "iopub.status.busy": "2025-01-12T20:17:36.326681Z",
     "iopub.status.idle": "2025-01-12T20:17:36.335656Z",
     "shell.execute_reply": "2025-01-12T20:17:36.334059Z",
     "shell.execute_reply.started": "2025-01-12T20:17:36.327136Z"
    },
    "trusted": true
   },
   "outputs": [],
   "source": [
    "# Import necessary libraries\n",
    "import os\n",
    "import json\n",
    "import pandas as pd\n",
    "from transformers import T5Tokenizer, T5ForConditionalGeneration\n",
    "from sklearn.metrics.pairwise import cosine_similarity\n",
    "from sklearn.feature_extraction.text import TfidfVectorizer\n",
    "\n",
    "# Define paths for Gita and PYS datasets\n",
    "# Define directories for Gita and PYS datasets in Kaggle\n",
    "DATA_DIRECTORIES = {\n",
    "    \"gita\": \"/Users/abhav/Code/Bhagwad Gita RAG Chatbot/dataset/BWG data\",  # Directory containing Gita-related CSV files\n",
    "    \"pys\": \"/Users/abhav/Code/Bhagwad Gita RAG Chatbot/dataset/PYS Data\"    # Directory containing PYS-related CSV files\n",
    "}"
   ]
  },
  {
   "cell_type": "markdown",
   "metadata": {},
   "source": [
    "## Data Loading and Preprocessing\n",
    "\n",
    "This section handles the loading and initial processing of our source texts:\n",
    "- Loads verses from Bhagavad Gita and Patanjali Yoga Sutras\n",
    "- Combines datasets while preserving source information\n",
    "- Handles missing values and standardizes format\n",
    "- Prepares text for vectorization\n",
    "\n",
    "Note: The data is expected to be in CSV format with specific column structures."
   ]
  },
  {
   "cell_type": "code",
   "execution_count": 13,
   "metadata": {
    "execution": {
     "iopub.execute_input": "2025-01-12T20:17:36.338214Z",
     "iopub.status.busy": "2025-01-12T20:17:36.337808Z",
     "iopub.status.idle": "2025-01-12T20:17:36.361991Z",
     "shell.execute_reply": "2025-01-12T20:17:36.360652Z",
     "shell.execute_reply.started": "2025-01-12T20:17:36.338186Z"
    },
    "trusted": true
   },
   "outputs": [],
   "source": [
    "def load_and_combine_csv(directory):\n",
    "    combined_df = pd.DataFrame()\n",
    "    for file_name in os.listdir(directory):\n",
    "        if file_name.endswith(\".csv\"):\n",
    "            file_path = os.path.join(directory, file_name)\n",
    "            df = pd.read_csv(file_path)\n",
    "            combined_df = pd.concat([combined_df, df], ignore_index=True)\n",
    "    return combined_df"
   ]
  },
  {
   "cell_type": "code",
   "execution_count": 14,
   "metadata": {
    "execution": {
     "iopub.execute_input": "2025-01-12T20:17:36.364037Z",
     "iopub.status.busy": "2025-01-12T20:17:36.363646Z",
     "iopub.status.idle": "2025-01-12T20:17:36.509248Z",
     "shell.execute_reply": "2025-01-12T20:17:36.508091Z",
     "shell.execute_reply.started": "2025-01-12T20:17:36.364008Z"
    },
    "trusted": true
   },
   "outputs": [
    {
     "name": "stdout",
     "output_type": "stream",
     "text": [
      "Gita Data Preview:\n",
      "   Chapter  Verse                            Concept         Keyword  \\\n",
      "0      2.0   13.0             Transmigration of Soul  Transmigration   \n",
      "1      2.0   14.0  Impermanance of pleasure and pain      Transience   \n",
      "2      2.0   22.0             Transmigration of Soul  Transmigration   \n",
      "3      2.0   25.0            Characteristics of Soul            Soul   \n",
      "4      2.0   27.0           Cycle of Birth and Death  Transmigration   \n",
      "\n",
      "                                            Sanskrit  \\\n",
      "0  देहिनोऽस्मिन्यथा देहे कौमारं यौवनं जरा| तथा दे...   \n",
      "1  मात्रास्पर्शास्तु कौन्तेय शीतोष्णसुखदुःखदाः| आ...   \n",
      "2  वासांसि जीर्णानि यथा विहाय नवानि गृह्णाति नरोऽ...   \n",
      "3  अव्यक्तोऽयमचिन्त्योऽयमविकार्योऽयमुच्यते| तस्मा...   \n",
      "4  जातस्य हि ध्रुवो मृत्युर्ध्रुवं जन्म मृतस्य च|...   \n",
      "\n",
      "                                             English Speaker Sanskrit   \\\n",
      "0  Just as childhood, youth, and old age are natu...     NaN       NaN   \n",
      "1  The sensations of cold and heat, pleasure and ...     NaN       NaN   \n",
      "2  Just as a person discards old and tattered clo...     NaN       NaN   \n",
      "3  It is said that \"This\" is imperceptible, unima...     NaN       NaN   \n",
      "4  The demise of every being born into this world...     NaN       NaN   \n",
      "\n",
      "  Swami Adidevananda Swami Gambirananda  ... Shloka Sanskrit Word  \\\n",
      "0                NaN                NaN  ...    NaN           NaN   \n",
      "1                NaN                NaN  ...    NaN           NaN   \n",
      "2                NaN                NaN  ...    NaN           NaN   \n",
      "3                NaN                NaN  ...    NaN           NaN   \n",
      "4                NaN                NaN  ...    NaN           NaN   \n",
      "\n",
      "  Hindi Meaning  chapter verse speaker  sanskrit  translation question  \\\n",
      "0           NaN      NaN   NaN     NaN       NaN          NaN      NaN   \n",
      "1           NaN      NaN   NaN     NaN       NaN          NaN      NaN   \n",
      "2           NaN      NaN   NaN     NaN       NaN          NaN      NaN   \n",
      "3           NaN      NaN   NaN     NaN       NaN          NaN      NaN   \n",
      "4           NaN      NaN   NaN     NaN       NaN          NaN      NaN   \n",
      "\n",
      "  English Meaning  \n",
      "0             NaN  \n",
      "1             NaN  \n",
      "2             NaN  \n",
      "3             NaN  \n",
      "4             NaN  \n",
      "\n",
      "[5 rows x 23 columns]\n",
      "\n",
      "PYS Data Preview:\n",
      "   Chapter  Verse                            Sanskrit   \\\n",
      "0      1.0    1.0                      अथ योगानुशासनम्   \n",
      "1      1.0    2.0               योगश्चित्तवृत्तिनिरोधः   \n",
      "2      1.0    3.0        तदा द्रष्टुः स्वरूपेऽवस्थानम्   \n",
      "3      1.0    4.0                 वृत्तिसारूप्यमितरत्र   \n",
      "4      1.0    5.0  वृत्तयः पञ्चतय्यः क्लिष्टाक्लिष्टाः   \n",
      "\n",
      "                                       Word Meanings  \\\n",
      "0  अथ = now; योग = process of yoking, union; अनुश...   \n",
      "1  योग  = process of yoking, union; चित्त  = cons...   \n",
      "2  तदा  = then; द्रष्टु  = seer, witness, pure aw...   \n",
      "3  वृत्ति = patterning, turnings, movements; सारू...   \n",
      "4  वृत्तयः = patterning, turnings, movements; पञ्...   \n",
      "\n",
      "                                        Translation   chapter  verse sanskrit  \\\n",
      "0  Now, the teachings of yoga are presented since...      NaN    NaN      NaN   \n",
      "1  The purpose of yoga is to quieten the fluctuat...      NaN    NaN      NaN   \n",
      "2  Once the state of Yoga is achieved, pure consc...      NaN    NaN      NaN   \n",
      "3  Till the state of Yoga is achieved, consciousn...      NaN    NaN      NaN   \n",
      "4  These mental patterns can be classified into f...      NaN    NaN      NaN   \n",
      "\n",
      "  translation question  \n",
      "0         NaN      NaN  \n",
      "1         NaN      NaN  \n",
      "2         NaN      NaN  \n",
      "3         NaN      NaN  \n",
      "4         NaN      NaN  \n"
     ]
    }
   ],
   "source": [
    "# Load Gita and PYS datasets\n",
    "def load_datasets():\n",
    "    gita_df = load_and_combine_csv(DATA_DIRECTORIES[\"gita\"])\n",
    "    pys_df = load_and_combine_csv(DATA_DIRECTORIES[\"pys\"])\n",
    "    return gita_df, pys_df\n",
    "\n",
    "gita_df, pys_df = load_datasets()\n",
    "\n",
    "# Display the first few rows of each dataset for verification\n",
    "print(\"Gita Data Preview:\")\n",
    "print(gita_df.head())\n",
    "print(\"\\nPYS Data Preview:\")\n",
    "print(pys_df.head())"
   ]
  },
  {
   "cell_type": "code",
   "execution_count": 16,
   "metadata": {
    "execution": {
     "iopub.execute_input": "2025-01-12T20:18:54.452196Z",
     "iopub.status.busy": "2025-01-12T20:18:54.451780Z",
     "iopub.status.idle": "2025-01-12T20:18:54.516505Z",
     "shell.execute_reply": "2025-01-12T20:18:54.515321Z",
     "shell.execute_reply.started": "2025-01-12T20:18:54.452167Z"
    },
    "trusted": true
   },
   "outputs": [
    {
     "name": "stdout",
     "output_type": "stream",
     "text": [
      "Combined Data Preview:\n",
      "   Chapter  Verse                            Concept         Keyword  \\\n",
      "0      2.0   13.0             Transmigration of Soul  Transmigration   \n",
      "1      2.0   14.0  Impermanance of pleasure and pain      Transience   \n",
      "2      2.0   22.0             Transmigration of Soul  Transmigration   \n",
      "3      2.0   25.0            Characteristics of Soul            Soul   \n",
      "4      2.0   27.0           Cycle of Birth and Death  Transmigration   \n",
      "\n",
      "                                            Sanskrit  \\\n",
      "0  देहिनोऽस्मिन्यथा देहे कौमारं यौवनं जरा| तथा दे...   \n",
      "1  मात्रास्पर्शास्तु कौन्तेय शीतोष्णसुखदुःखदाः| आ...   \n",
      "2  वासांसि जीर्णानि यथा विहाय नवानि गृह्णाति नरोऽ...   \n",
      "3  अव्यक्तोऽयमचिन्त्योऽयमविकार्योऽयमुच्यते| तस्मा...   \n",
      "4  जातस्य हि ध्रुवो मृत्युर्ध्रुवं जन्म मृतस्य च|...   \n",
      "\n",
      "                                             English Speaker Sanskrit   \\\n",
      "0  Just as childhood, youth, and old age are natu...     NaN       NaN   \n",
      "1  The sensations of cold and heat, pleasure and ...     NaN       NaN   \n",
      "2  Just as a person discards old and tattered clo...     NaN       NaN   \n",
      "3  It is said that \"This\" is imperceptible, unima...     NaN       NaN   \n",
      "4  The demise of every being born into this world...     NaN       NaN   \n",
      "\n",
      "  Swami Adidevananda Swami Gambirananda  ... chapter text speaker  sanskrit  \\\n",
      "0                NaN                NaN  ...     NaN          NaN       NaN   \n",
      "1                NaN                NaN  ...     NaN          NaN       NaN   \n",
      "2                NaN                NaN  ...     NaN          NaN       NaN   \n",
      "3                NaN                NaN  ...     NaN          NaN       NaN   \n",
      "4                NaN                NaN  ...     NaN          NaN       NaN   \n",
      "\n",
      "  translation question  English Meaning source Word Meanings Translation   \n",
      "0         NaN      NaN              NaN   Gita           NaN          NaN  \n",
      "1         NaN      NaN              NaN   Gita           NaN          NaN  \n",
      "2         NaN      NaN              NaN   Gita           NaN          NaN  \n",
      "3         NaN      NaN              NaN   Gita           NaN          NaN  \n",
      "4         NaN      NaN              NaN   Gita           NaN          NaN  \n",
      "\n",
      "[5 rows x 26 columns]\n"
     ]
    }
   ],
   "source": [
    "# Identify the text column dynamically\n",
    "def find_text_column(df, possible_columns):\n",
    "    for col in possible_columns:\n",
    "        if col in df.columns:\n",
    "            return col\n",
    "    raise ValueError(f\"No valid text column found in DataFrame. Available columns: {df.columns}\")\n",
    "\n",
    "def preprocess_data(gita_df, pys_df):\n",
    "    # Identify the text column for both datasets\n",
    "    gita_text_column = find_text_column(gita_df, ['text', 'verse', 'content', 'translation'])\n",
    "    pys_text_column = find_text_column(pys_df, ['text', 'verse', 'content', 'translation'])\n",
    "    \n",
    "    # Fill missing values with empty strings\n",
    "    gita_df[gita_text_column] = gita_df[gita_text_column].fillna('').astype(str)\n",
    "    pys_df[pys_text_column] = pys_df[pys_text_column].fillna('').astype(str)\n",
    "\n",
    "    # Add a source column for identification\n",
    "    gita_df['source'] = 'Gita'\n",
    "    pys_df['source'] = 'PYS'\n",
    "\n",
    "    # Normalize the column names\n",
    "    gita_df = gita_df.rename(columns={gita_text_column: 'text'})\n",
    "    pys_df = pys_df.rename(columns={pys_text_column: 'text'})\n",
    "\n",
    "    # Combine datasets\n",
    "    combined_df = pd.concat([gita_df, pys_df], ignore_index=True)\n",
    "    return combined_df\n",
    "\n",
    "# Preprocess data\n",
    "data = preprocess_data(gita_df, pys_df)\n",
    "\n",
    "# Display the combined dataset preview\n",
    "print(\"Combined Data Preview:\")\n",
    "print(data.head())"
   ]
  },
  {
   "cell_type": "code",
   "execution_count": 17,
   "metadata": {
    "execution": {
     "iopub.execute_input": "2025-01-12T20:18:55.390003Z",
     "iopub.status.busy": "2025-01-12T20:18:55.389596Z",
     "iopub.status.idle": "2025-01-12T20:18:55.410176Z",
     "shell.execute_reply": "2025-01-12T20:18:55.408815Z",
     "shell.execute_reply.started": "2025-01-12T20:18:55.389972Z"
    },
    "trusted": true
   },
   "outputs": [],
   "source": [
    "# Clean the 'text' column\n",
    "data['text'] = data['text'].fillna('').astype(str)\n",
    "\n",
    "# Remove rows where the text is empty (optional)\n",
    "data = data[data['text'].str.strip() != '']"
   ]
  },
  {
   "cell_type": "code",
   "execution_count": 18,
   "metadata": {
    "execution": {
     "iopub.execute_input": "2025-01-12T20:18:55.777493Z",
     "iopub.status.busy": "2025-01-12T20:18:55.777099Z",
     "iopub.status.idle": "2025-01-12T20:18:55.786673Z",
     "shell.execute_reply": "2025-01-12T20:18:55.785411Z",
     "shell.execute_reply.started": "2025-01-12T20:18:55.777462Z"
    },
    "trusted": true
   },
   "outputs": [
    {
     "name": "stdout",
     "output_type": "stream",
     "text": [
      "      text\n",
      "11624  1.0\n",
      "11625  2.0\n",
      "11626  3.0\n",
      "11627  4.0\n",
      "11628  5.0\n"
     ]
    }
   ],
   "source": [
    "print(data[['text']].head())"
   ]
  },
  {
   "cell_type": "code",
   "execution_count": 19,
   "metadata": {
    "execution": {
     "iopub.execute_input": "2025-01-12T20:18:56.022221Z",
     "iopub.status.busy": "2025-01-12T20:18:56.021825Z",
     "iopub.status.idle": "2025-01-12T20:18:56.034490Z",
     "shell.execute_reply": "2025-01-12T20:18:56.033018Z",
     "shell.execute_reply.started": "2025-01-12T20:18:56.022193Z"
    },
    "trusted": true
   },
   "outputs": [
    {
     "name": "stdout",
     "output_type": "stream",
     "text": [
      "text\n",
      "<class 'str'>    895\n",
      "Name: count, dtype: int64\n"
     ]
    }
   ],
   "source": [
    "print(data['text'].apply(type).value_counts())"
   ]
  },
  {
   "cell_type": "markdown",
   "metadata": {},
   "source": [
    "## Text Vectorization and Similarity Calculation\n",
    "\n",
    "This section implements the core text matching functionality:\n",
    "- Converts text to TF-IDF vectors for efficient comparison\n",
    "- Implements cosine similarity for finding relevant verses\n",
    "- Handles multi-language content appropriately\n",
    "\n",
    "The vectorization process helps us match user queries with the most relevant verses from our corpus."
   ]
  },
  {
   "cell_type": "code",
   "execution_count": 21,
   "metadata": {
    "execution": {
     "iopub.execute_input": "2025-01-12T20:19:02.646685Z",
     "iopub.status.busy": "2025-01-12T20:19:02.646357Z",
     "iopub.status.idle": "2025-01-12T20:19:02.673393Z",
     "shell.execute_reply": "2025-01-12T20:19:02.671989Z",
     "shell.execute_reply.started": "2025-01-12T20:19:02.646661Z"
    },
    "trusted": true
   },
   "outputs": [],
   "source": [
    "# Chunking and vectorization\n",
    "def vectorize_texts(data):\n",
    "    vectorizer = TfidfVectorizer(stop_words='english')\n",
    "    tfidf_matrix = vectorizer.fit_transform(data['text'])\n",
    "    return vectorizer, tfidf_matrix\n",
    "\n",
    "# Apply vectorization\n",
    "vectorizer, tfidf_matrix = vectorize_texts(data)"
   ]
  },
  {
   "cell_type": "markdown",
   "metadata": {},
   "source": [
    "## Verse Retrieval System\n",
    "\n",
    "The retrieval system matches user queries with relevant verses using the following process:\n",
    "1. Query preprocessing\n",
    "2. Vector space matching\n",
    "3. Similarity ranking\n",
    "4. Top-N selection\n",
    "\n",
    "The system returns the most relevant verses based on semantic similarity to the query."
   ]
  },
  {
   "cell_type": "code",
   "execution_count": 22,
   "metadata": {
    "execution": {
     "iopub.execute_input": "2025-01-12T20:19:02.936695Z",
     "iopub.status.busy": "2025-01-12T20:19:02.936339Z",
     "iopub.status.idle": "2025-01-12T20:19:02.957626Z",
     "shell.execute_reply": "2025-01-12T20:19:02.955896Z",
     "shell.execute_reply.started": "2025-01-12T20:19:02.936667Z"
    },
    "trusted": true
   },
   "outputs": [
    {
     "name": "stdout",
     "output_type": "stream",
     "text": [
      "       Chapter  Verse Concept Keyword Sanskrit English Speaker Sanskrit   \\\n",
      "24084      NaN    NaN     NaN     NaN      NaN     NaN     NaN       NaN   \n",
      "11917      NaN    NaN     NaN     NaN      NaN     NaN     NaN       NaN   \n",
      "11928      NaN    NaN     NaN     NaN      NaN     NaN     NaN       NaN   \n",
      "11927      NaN    NaN     NaN     NaN      NaN     NaN     NaN       NaN   \n",
      "11926      NaN    NaN     NaN     NaN      NaN     NaN     NaN       NaN   \n",
      "\n",
      "      Swami Adidevananda Swami Gambirananda  ...  text speaker  \\\n",
      "24084                NaN                NaN  ...  34.0     NaN   \n",
      "11917                NaN                NaN  ...  14.0   भगवान   \n",
      "11928                NaN                NaN  ...  25.0   भगवान   \n",
      "11927                NaN                NaN  ...  24.0   भगवान   \n",
      "11926                NaN                NaN  ...  23.0   भगवान   \n",
      "\n",
      "                                                sanskrit  \\\n",
      "24084  पुरुषार्थशून्यानां गुणानां प्रतिप्रसवः कैवल्यं...   \n",
      "11917  दैवी ह्येषा गुणमयी मम माया दुरत्यया| मामेव ये ...   \n",
      "11928  नाहं प्रकाशः सर्वस्य योगमायासमावृतः| मूढोऽयं न...   \n",
      "11927  अव्यक्तं व्यक्ितमापन्नं मन्यन्ते मामबुद्धयः| प...   \n",
      "11926  अन्तवत्तु फलं तेषां तद्भवत्यल्पमेधसाम्| देवान्...   \n",
      "\n",
      "                                             translation  \\\n",
      "24084  Ultimate liberation is when the gunas, devoid ...   \n",
      "11917  Verily, this divine illusion of Mine, composed...   \n",
      "11928  I am not manifest to all, veiled as I am by th...   \n",
      "11927  The foolish think of Me, the Unmanifest, as ha...   \n",
      "11926  Verily, the reward (fruit) that accrues to tho...   \n",
      "\n",
      "                                                question English Meaning  \\\n",
      "24084  What is ultimate liberation? What happens to P...             NaN   \n",
      "11917   How can we overcome the delusion caused by Maya?             NaN   \n",
      "11928                 Can deluded people understand God?             NaN   \n",
      "11927             How do ignorant people view an Avatar?             NaN   \n",
      "11926                What is the highest form of prayer?             NaN   \n",
      "\n",
      "       source Word Meanings Translation  similarity_score  \n",
      "24084     PYS           NaN          NaN              0.0  \n",
      "11917    Gita           NaN          NaN              0.0  \n",
      "11928    Gita           NaN          NaN              0.0  \n",
      "11927    Gita           NaN          NaN              0.0  \n",
      "11926    Gita           NaN          NaN              0.0  \n",
      "\n",
      "[5 rows x 27 columns]\n"
     ]
    }
   ],
   "source": [
    "def retrieve_shlokas(query, vectorizer, tfidf_matrix, data, top_n=5):\n",
    "    query_vector = vectorizer.transform([query])\n",
    "    cosine_similarities = (tfidf_matrix @ query_vector.T).toarray().ravel()\n",
    "    \n",
    "    # Get the top N results\n",
    "    top_indices = cosine_similarities.argsort()[-top_n:][::-1]\n",
    "    retrieved_shlokas = data.iloc[top_indices].copy()\n",
    "    retrieved_shlokas['similarity_score'] = cosine_similarities[top_indices]\n",
    "    \n",
    "    return retrieved_shlokas, cosine_similarities[top_indices]\n",
    "\n",
    "# Example usage\n",
    "query = \"How to control the mind?\"\n",
    "retrieved_shlokas, scores = retrieve_shlokas(query, vectorizer, tfidf_matrix, data)\n",
    "print(retrieved_shlokas)"
   ]
  },
  {
   "cell_type": "markdown",
   "metadata": {},
   "source": [
    "## Summary Generation\n",
    "\n",
    "This section implements automatic summary generation using the T5 transformer model:\n",
    "- Uses T5-base model for text generation\n",
    "- Implements custom prompting for spiritual context\n",
    "- Generates concise, contextual summaries of retrieved verses\n",
    "\n",
    "Note: The summary generation process is designed to maintain the spiritual context and meaning of the original texts."
   ]
  },
  {
   "cell_type": "code",
   "execution_count": 23,
   "metadata": {
    "execution": {
     "iopub.execute_input": "2025-01-12T20:19:17.661368Z",
     "iopub.status.busy": "2025-01-12T20:19:17.661002Z",
     "iopub.status.idle": "2025-01-12T20:19:29.364075Z",
     "shell.execute_reply": "2025-01-12T20:19:29.362947Z",
     "shell.execute_reply.started": "2025-01-12T20:19:17.661341Z"
    },
    "trusted": true
   },
   "outputs": [
    {
     "data": {
      "application/vnd.jupyter.widget-view+json": {
       "model_id": "fce1f5d78d2849edb093533a8039beb0",
       "version_major": 2,
       "version_minor": 0
      },
      "text/plain": [
       "spiece.model:   0%|          | 0.00/792k [00:00<?, ?B/s]"
      ]
     },
     "metadata": {},
     "output_type": "display_data"
    },
    {
     "data": {
      "application/vnd.jupyter.widget-view+json": {
       "model_id": "844db3caed314c1f9ec23a089c48e832",
       "version_major": 2,
       "version_minor": 0
      },
      "text/plain": [
       "tokenizer.json:   0%|          | 0.00/1.39M [00:00<?, ?B/s]"
      ]
     },
     "metadata": {},
     "output_type": "display_data"
    },
    {
     "data": {
      "application/vnd.jupyter.widget-view+json": {
       "model_id": "6d9055f7c48d4e5a986cf79d38aa9f37",
       "version_major": 2,
       "version_minor": 0
      },
      "text/plain": [
       "config.json:   0%|          | 0.00/1.21k [00:00<?, ?B/s]"
      ]
     },
     "metadata": {},
     "output_type": "display_data"
    },
    {
     "name": "stderr",
     "output_type": "stream",
     "text": [
      "You are using the default legacy behaviour of the <class 'transformers.models.t5.tokenization_t5.T5Tokenizer'>. This is expected, and simply means that the `legacy` (previous) behavior will be used so nothing changes for you. If you want to use the new behaviour, set `legacy=False`. This should only be set if you understand what it means, and thoroughly read the reason why this was added as explained in https://github.com/huggingface/transformers/pull/24565\n",
      "/usr/local/lib/python3.10/dist-packages/transformers/tokenization_utils_base.py:1601: FutureWarning: `clean_up_tokenization_spaces` was not set. It will be set to `True` by default. This behavior will be depracted in transformers v4.45, and will be then set to `False` by default. For more details check this issue: https://github.com/huggingface/transformers/issues/31884\n",
      "  warnings.warn(\n"
     ]
    },
    {
     "data": {
      "application/vnd.jupyter.widget-view+json": {
       "model_id": "730f36d7645d42b99274b6beaed3f29e",
       "version_major": 2,
       "version_minor": 0
      },
      "text/plain": [
       "model.safetensors:   0%|          | 0.00/892M [00:00<?, ?B/s]"
      ]
     },
     "metadata": {},
     "output_type": "display_data"
    },
    {
     "data": {
      "application/vnd.jupyter.widget-view+json": {
       "model_id": "a99e8518a2a74df3b54f3ce4a8ebab75",
       "version_major": 2,
       "version_minor": 0
      },
      "text/plain": [
       "generation_config.json:   0%|          | 0.00/147 [00:00<?, ?B/s]"
      ]
     },
     "metadata": {},
     "output_type": "display_data"
    },
    {
     "name": "stdout",
     "output_type": "stream",
     "text": [
      "Generated Summary: True\n"
     ]
    }
   ],
   "source": [
    "# Load T5-base model\n",
    "def load_t5_model():\n",
    "    tokenizer = T5Tokenizer.from_pretrained(\"t5-base\")\n",
    "    model = T5ForConditionalGeneration.from_pretrained(\"t5-base\")\n",
    "    return tokenizer, model\n",
    "\n",
    "tokenizer, model = load_t5_model()\n",
    "    \n",
    "# Prompt engineering and summarization\n",
    "def generate_summary(query, shlokas, tokenizer, model):\n",
    "    if not shlokas_text.strip():\n",
    "        return \"No relevant shlokas were found for the query.\"\n",
    "\n",
    "    # Create a high-quality prompt\n",
    "    prompt = f\"\"\"\n",
    "    You are an AI trained on Indian scriptures like the Bhagavad Gita and Patanjali Yoga Sutras.\n",
    "    Your job is to answer queries by retrieving relevant verses and summarizing their essence.\n",
    "\n",
    "    Query: {query}\n",
    "\n",
    "    Relevant Verses:\n",
    "    {shlokas}\n",
    "\n",
    "    Based on the above verses, provide a concise, accurate, and spiritually aligned summary. Avoid adding any information not present in the verses.\n",
    "    \"\"\"\n",
    "    inputs = tokenizer(prompt, return_tensors=\"pt\", truncation=True, max_length=512)\n",
    "    output = model.generate(**inputs, max_length=150, num_beams=5, early_stopping=True)\n",
    "    return tokenizer.decode(output[0], skip_special_tokens=True)\n",
    "    input_ids = tokenizer.encode(prompt, return_tensors=\"pt\", max_length=512, truncation=True)\n",
    "    output_ids = model.generate(input_ids, max_length=150, num_beams=5, early_stopping=True)\n",
    "    summary = tokenizer.decode(output_ids[0], skip_special_tokens=True)\n",
    "    return summary\n",
    "\n",
    "# Generate summary\n",
    "shlokas_text = \" \".join(retrieved_shlokas['text'].tolist())\n",
    "summary = generate_summary(query, shlokas_text, tokenizer, model)\n",
    "print(\"Generated Summary:\", summary)"
   ]
  },
  {
   "cell_type": "code",
   "execution_count": 24,
   "metadata": {
    "execution": {
     "iopub.execute_input": "2025-01-12T20:19:29.365773Z",
     "iopub.status.busy": "2025-01-12T20:19:29.365416Z",
     "iopub.status.idle": "2025-01-12T20:19:29.370927Z",
     "shell.execute_reply": "2025-01-12T20:19:29.369673Z",
     "shell.execute_reply.started": "2025-01-12T20:19:29.365745Z"
    },
    "trusted": true
   },
   "outputs": [],
   "source": [
    "# Check for inappropriate queries\n",
    "def is_query_valid(query):\n",
    "    inappropriate_keywords = [\"abuse\", \"hate\", \"violence\", \"unethical\", \"illegal\"]\n",
    "    for keyword in inappropriate_keywords:\n",
    "        if keyword in query.lower():\n",
    "            return False\n",
    "    return True\n",
    "\n",
    "# Example usage\n",
    "if not is_query_valid(query):\n",
    "    print(\"Query is inappropriate.\")"
   ]
  },
  {
   "cell_type": "markdown",
   "metadata": {},
   "source": [
    "## Output Formatting\n",
    "\n",
    "The system generates structured output containing:\n",
    "- Original query\n",
    "- Retrieved verses (with both Sanskrit and English translations)\n",
    "- Generated summary\n",
    "- Source information and metadata\n",
    "\n",
    "All output is formatted in JSON for easy integration with other systems."
   ]
  },
  {
   "cell_type": "code",
   "execution_count": 29,
   "metadata": {
    "execution": {
     "iopub.execute_input": "2025-01-12T20:24:06.950268Z",
     "iopub.status.busy": "2025-01-12T20:24:06.949882Z",
     "iopub.status.idle": "2025-01-12T20:24:06.956523Z",
     "shell.execute_reply": "2025-01-12T20:24:06.955426Z",
     "shell.execute_reply.started": "2025-01-12T20:24:06.950239Z"
    },
    "trusted": true
   },
   "outputs": [],
   "source": [
    "def format_output(query, retrieved_shlokas, summary):\n",
    "    # Map available columns to the expected keys\n",
    "    column_mapping = {\n",
    "        'chapter': 'Chapter',\n",
    "        'verse': 'Verse',\n",
    "        'text': 'Text',\n",
    "        'sanskrit': 'Sanskrit',\n",
    "        'translation': 'Translation',\n",
    "        'source': 'Source'\n",
    "    }\n",
    "    \n",
    "    # Check which columns exist in the DataFrame\n",
    "    available_columns = {key: value for key, value in column_mapping.items() if key in retrieved_shlokas.columns}\n",
    "    \n",
    "    # Rename columns for uniformity\n",
    "    retrieved_shlokas = retrieved_shlokas.rename(columns=available_columns)\n",
    "    \n",
    "    # Select only available columns\n",
    "    retrieved_shlokas = retrieved_shlokas[list(available_columns.values())].fillna('Not specified').to_dict(orient='records')\n",
    "    \n",
    "    # Format the final output\n",
    "    return {\n",
    "        \"query\": query,\n",
    "        \"retrieved_shlokas\": retrieved_shlokas,\n",
    "        \"summary\": summary\n",
    "    }"
   ]
  },
  {
   "cell_type": "code",
   "execution_count": 30,
   "metadata": {
    "execution": {
     "iopub.execute_input": "2025-01-12T20:24:07.472819Z",
     "iopub.status.busy": "2025-01-12T20:24:07.472489Z",
     "iopub.status.idle": "2025-01-12T20:24:10.807913Z",
     "shell.execute_reply": "2025-01-12T20:24:10.806348Z",
     "shell.execute_reply.started": "2025-01-12T20:24:07.472791Z"
    },
    "trusted": true
   },
   "outputs": [
    {
     "name": "stdout",
     "output_type": "stream",
     "text": [
      "{'query': 'How to control the mind?', 'retrieved_shlokas': [{'Chapter': 4.0, 'Text': '34.0', 'Sanskrit': 'पुरुषार्थशून्यानां गुणानां प्रतिप्रसवः कैवल्यं स्वरूपप्रतिष्ठा वा चितिशक्तिरिति', 'Translation': 'Ultimate liberation is when the gunas, devoid of any purpose for the purusa, return to their original (latent) state; in other words, when the power of consciousness is situated in its own essential nature.', 'Source': 'PYS'}, {'Chapter': 7.0, 'Text': '14.0', 'Sanskrit': 'दैवी ह्येषा गुणमयी मम माया दुरत्यया| मामेव ये प्रपद्यन्ते मायामेतां तरन्ति ते || 7.14 || ', 'Translation': 'Verily, this divine illusion of Mine, composed of the three qualities, is difficult to cross over; those who take refuge in Me alone, can cross over this illusion.', 'Source': 'Gita'}, {'Chapter': 7.0, 'Text': '25.0', 'Sanskrit': 'नाहं प्रकाशः सर्वस्य योगमायासमावृतः| मूढोऽयं नाभिजानाति लोको मामजमव्ययम् || 7.25 || ', 'Translation': 'I am not manifest to all, veiled as I am by the Yoga-Maya. This deluded world does not know Me, who am unborn and imperishable.', 'Source': 'Gita'}, {'Chapter': 7.0, 'Text': '24.0', 'Sanskrit': 'अव्यक्तं व्यक्ितमापन्नं मन्यन्ते मामबुद्धयः| परं भावमजानन्तो ममाव्ययमनुत्तमम् || 7.24 || ', 'Translation': 'The foolish think of Me, the Unmanifest, as having manifestation, not knowing My higher, immutable, and most excellent nature.', 'Source': 'Gita'}, {'Chapter': 7.0, 'Text': '23.0', 'Sanskrit': 'अन्तवत्तु फलं तेषां तद्भवत्यल्पमेधसाम्| देवान्देवयजो यान्ति मद्भक्ता यान्ति मामपि || 7.23 || ', 'Translation': 'Verily, the reward (fruit) that accrues to those men of small intelligence is finite. The worshippers of the gods go to them, whereas My devotees come to Me.', 'Source': 'Gita'}], 'summary': 'True'}\n"
     ]
    },
    {
     "name": "stderr",
     "output_type": "stream",
     "text": [
      "<ipython-input-29-36a45fe248e9>:19: UserWarning: DataFrame columns are not unique, some columns will be omitted.\n",
      "  retrieved_shlokas = retrieved_shlokas[list(available_columns.values())].fillna('Not specified').to_dict(orient='records')\n"
     ]
    }
   ],
   "source": [
    "# Query example\n",
    "query = \"How to control the mind?\"\n",
    "\n",
    "# Retrieve relevant shlokas\n",
    "retrieved_shlokas, scores = retrieve_shlokas(query, vectorizer, tfidf_matrix, data)\n",
    "\n",
    "# Generate summary\n",
    "shlokas_text = \" \".join(retrieved_shlokas['text'].tolist())\n",
    "summary = generate_summary(query, shlokas_text, tokenizer, model)\n",
    "\n",
    "# Format output as JSON\n",
    "output = format_output(query, retrieved_shlokas, summary)\n",
    "print(output)"
   ]
  },
  {
   "cell_type": "code",
   "execution_count": 44,
   "metadata": {
    "execution": {
     "iopub.execute_input": "2025-01-12T20:42:46.820791Z",
     "iopub.status.busy": "2025-01-12T20:42:46.820424Z",
     "iopub.status.idle": "2025-01-12T20:42:46.827999Z",
     "shell.execute_reply": "2025-01-12T20:42:46.826777Z",
     "shell.execute_reply.started": "2025-01-12T20:42:46.820764Z"
    },
    "trusted": true
   },
   "outputs": [],
   "source": [
    "import json\n",
    "import pandas as pd\n",
    "\n",
    "def refine_output_with_dynamic_summary(query, retrieved_shlokas):\n",
    "    # Map available columns to the expected keys\n",
    "    column_mapping = {\n",
    "        'chapter': 'Chapter',\n",
    "        'verse': 'Verse',\n",
    "        'text': 'Text',\n",
    "        'sanskrit': 'Sanskrit',\n",
    "        'translation': 'Translation',\n",
    "        'source': 'Source'\n",
    "    }\n",
    "\n",
    "    # Check which columns exist in the DataFrame\n",
    "    available_columns = {key: value for key, value in column_mapping.items() if key in retrieved_shlokas.columns}\n",
    "\n",
    "    # Rename columns for uniformity\n",
    "    retrieved_shlokas = retrieved_shlokas.rename(columns=available_columns)\n",
    "\n",
    "    # Select only available columns\n",
    "    shlokas_list = (\n",
    "        retrieved_shlokas[list(available_columns.values())]\n",
    "        .fillna('Not specified')\n",
    "        .to_dict(orient='records')\n",
    "    )\n",
    "\n",
    "    # Generate a summary based on the translations in the retrieved shlokas\n",
    "    summary_lines = [\n",
    "        shloka.get(\"Translation\", \"No translation available\")\n",
    "        for shloka in shlokas_list\n",
    "    ]\n",
    "    generated_summary = \" \".join(summary_lines)\n",
    "\n",
    "    # Refine the output\n",
    "    output = {\n",
    "        \"query\": query,\n",
    "        \"retrieved_shlokas\": shlokas_list,\n",
    "        \"summary\": generated_summary\n",
    "    }\n",
    "\n",
    "    # Convert to JSON format with proper indentation\n",
    "    return json.dumps(output, indent=4, ensure_ascii=False)"
   ]
  },
  {
   "cell_type": "code",
   "execution_count": 45,
   "metadata": {
    "execution": {
     "iopub.execute_input": "2025-01-12T20:42:47.779822Z",
     "iopub.status.busy": "2025-01-12T20:42:47.779451Z",
     "iopub.status.idle": "2025-01-12T20:42:47.791395Z",
     "shell.execute_reply": "2025-01-12T20:42:47.790034Z",
     "shell.execute_reply.started": "2025-01-12T20:42:47.779792Z"
    },
    "trusted": true
   },
   "outputs": [
    {
     "name": "stdout",
     "output_type": "stream",
     "text": [
      "{\n",
      "    \"query\": \"How to control the mind?\",\n",
      "    \"retrieved_shlokas\": [\n",
      "        {\n",
      "            \"Chapter\": 4.0,\n",
      "            \"Text\": \"34.0\",\n",
      "            \"Sanskrit\": \"पुरुषार्थशून्यानां गुणानां प्रतिप्रसवः कैवल्यं स्वरूपप्रतिष्ठा वा चितिशक्तिरिति\",\n",
      "            \"Translation\": \"Ultimate liberation is when the gunas, devoid of any purpose for the purusa, return to their original (latent) state; in other words, when the power of consciousness is situated in its own essential nature.\",\n",
      "            \"Source\": \"PYS\"\n",
      "        },\n",
      "        {\n",
      "            \"Chapter\": 7.0,\n",
      "            \"Text\": \"14.0\",\n",
      "            \"Sanskrit\": \"दैवी ह्येषा गुणमयी मम माया दुरत्यया| मामेव ये प्रपद्यन्ते मायामेतां तरन्ति ते || 7.14 || \",\n",
      "            \"Translation\": \"Verily, this divine illusion of Mine, composed of the three qualities, is difficult to cross over; those who take refuge in Me alone, can cross over this illusion.\",\n",
      "            \"Source\": \"Gita\"\n",
      "        },\n",
      "        {\n",
      "            \"Chapter\": 7.0,\n",
      "            \"Text\": \"25.0\",\n",
      "            \"Sanskrit\": \"नाहं प्रकाशः सर्वस्य योगमायासमावृतः| मूढोऽयं नाभिजानाति लोको मामजमव्ययम् || 7.25 || \",\n",
      "            \"Translation\": \"I am not manifest to all, veiled as I am by the Yoga-Maya. This deluded world does not know Me, who am unborn and imperishable.\",\n",
      "            \"Source\": \"Gita\"\n",
      "        },\n",
      "        {\n",
      "            \"Chapter\": 7.0,\n",
      "            \"Text\": \"24.0\",\n",
      "            \"Sanskrit\": \"अव्यक्तं व्यक्ितमापन्नं मन्यन्ते मामबुद्धयः| परं भावमजानन्तो ममाव्ययमनुत्तमम् || 7.24 || \",\n",
      "            \"Translation\": \"The foolish think of Me, the Unmanifest, as having manifestation, not knowing My higher, immutable, and most excellent nature.\",\n",
      "            \"Source\": \"Gita\"\n",
      "        },\n",
      "        {\n",
      "            \"Chapter\": 7.0,\n",
      "            \"Text\": \"23.0\",\n",
      "            \"Sanskrit\": \"अन्तवत्तु फलं तेषां तद्भवत्यल्पमेधसाम्| देवान्देवयजो यान्ति मद्भक्ता यान्ति मामपि || 7.23 || \",\n",
      "            \"Translation\": \"Verily, the reward (fruit) that accrues to those men of small intelligence is finite. The worshippers of the gods go to them, whereas My devotees come to Me.\",\n",
      "            \"Source\": \"Gita\"\n",
      "        }\n",
      "    ],\n",
      "    \"summary\": \"Ultimate liberation is when the gunas, devoid of any purpose for the purusa, return to their original (latent) state; in other words, when the power of consciousness is situated in its own essential nature. Verily, this divine illusion of Mine, composed of the three qualities, is difficult to cross over; those who take refuge in Me alone, can cross over this illusion. I am not manifest to all, veiled as I am by the Yoga-Maya. This deluded world does not know Me, who am unborn and imperishable. The foolish think of Me, the Unmanifest, as having manifestation, not knowing My higher, immutable, and most excellent nature. Verily, the reward (fruit) that accrues to those men of small intelligence is finite. The worshippers of the gods go to them, whereas My devotees come to Me.\"\n",
      "}\n"
     ]
    },
    {
     "name": "stderr",
     "output_type": "stream",
     "text": [
      "<ipython-input-44-937d2dbf3d12>:23: UserWarning: DataFrame columns are not unique, some columns will be omitted.\n",
      "  retrieved_shlokas[list(available_columns.values())]\n"
     ]
    }
   ],
   "source": [
    "# Example usage\n",
    "query = 'How to control the mind?'\n",
    "refined_output = refine_output_with_dynamic_summary(query, retrieved_shlokas)\n",
    "print(refined_output)"
   ]
  },
  {
   "cell_type": "markdown",
   "metadata": {},
   "source": [
    "## Evaluation System\n",
    "\n",
    "The evaluation system uses weighted criteria to assess the quality of results:"
   ]
  },
  {
   "cell_type": "code",
   "execution_count": 46,
   "metadata": {
    "execution": {
     "iopub.execute_input": "2025-01-12T20:43:09.498803Z",
     "iopub.status.busy": "2025-01-12T20:43:09.498431Z",
     "iopub.status.idle": "2025-01-12T20:43:09.503503Z",
     "shell.execute_reply": "2025-01-12T20:43:09.502310Z",
     "shell.execute_reply.started": "2025-01-12T20:43:09.498774Z"
    },
    "trusted": true
   },
   "outputs": [],
   "source": [
    "# Define evaluation criteria with weights\n",
    "evaluation_criteria = {\n",
    "    \"Accuracy of Retrieved Verse\": 0.3,\n",
    "    \"Contextual Relevance\": 0.2,\n",
    "    \"Quality of Prompt and Summary\": 0.15,\n",
    "    \"Cost Efficiency\": 0.1,\n",
    "    \"Depth and Quality of Analysis\": 0.1,\n",
    "    \"Scalability\": 0.05,\n",
    "    \"User Experience\": 0.05,\n",
    "    \"Error Handling\": 0.05\n",
    "}"
   ]
  },
  {
   "cell_type": "markdown",
   "metadata": {},
   "source": [
    "### Scoring Guide\n",
    "\n",
    "The total weighted score is calculated on a scale of 1 to 5:\n",
    "- 5.0: Exceptional performance\n",
    "- 4.0-4.9: Very good performance\n",
    "- 3.0-3.9: Acceptable but may need improvement\n",
    "- Below 3.0: Significant issues that need attention\n",
    "\n",
    "Each criterion is weighted based on its importance to the overall system performance."
   ]
  },
  {
   "cell_type": "code",
   "execution_count": 55,
   "metadata": {
    "execution": {
     "iopub.execute_input": "2025-01-12T20:46:05.799207Z",
     "iopub.status.busy": "2025-01-12T20:46:05.798788Z",
     "iopub.status.idle": "2025-01-12T20:46:05.807122Z",
     "shell.execute_reply": "2025-01-12T20:46:05.805860Z",
     "shell.execute_reply.started": "2025-01-12T20:46:05.799178Z"
    },
    "trusted": true
   },
   "outputs": [],
   "source": [
    "# Function to evaluate a query result\n",
    "def evaluate_pipeline(query, retrieved_shlokas, summary, cost_per_query, scores):\n",
    "    \"\"\"\n",
    "    Evaluate the pipeline performance for a specific query.\n",
    "    \n",
    "    Args:\n",
    "    - query (str): The input query.\n",
    "    - retrieved_shlokas (list): The retrieved verses.\n",
    "    - summary (str): The generated summary.\n",
    "    - cost_per_query (float): Cost incurred for processing the query.\n",
    "    - scores (dict): Scores for each criterion (1–5).\n",
    "\n",
    "    Returns:\n",
    "    - dict: Evaluation results with total weighted score.\n",
    "    \"\"\"\n",
    "    # Validate scores\n",
    "    if set(scores.keys()) != set(evaluation_criteria.keys()):\n",
    "        raise ValueError(\"Scores must include all evaluation criteria.\")\n",
    "    \n",
    "    # Calculate weighted scores\n",
    "    weighted_scores = {\n",
    "        criterion: score * weight\n",
    "        for criterion, (score, weight) in zip(scores.keys(), zip(scores.values(), evaluation_criteria.values()))\n",
    "    }\n",
    "    \n",
    "    # Total weighted score\n",
    "    total_score = sum(weighted_scores.values())\n",
    "    \n",
    "    # Structure the evaluation results\n",
    "    evaluation_results = {\n",
    "        \"Query\": query,\n",
    "        \"Cost per Query\": cost_per_query,\n",
    "        \"Evaluation Scores\": scores,\n",
    "        \"Weighted Scores\": weighted_scores,\n",
    "        \"Total Weighted Score\": round(total_score, 2)\n",
    "    }\n",
    "    return evaluation_results"
   ]
  },
  {
   "cell_type": "markdown",
   "metadata": {},
   "source": [
    "## Usage Examples and Results\n",
    "\n",
    "This section demonstrates the system's functionality with example queries and analyzes the results. The example uses the query \"How to control the mind?\" to show:\n",
    "- Verse retrieval accuracy\n",
    "- Summary quality\n",
    "- Performance metrics\n",
    "- Cost efficiency"
   ]
  },
  {
   "cell_type": "code",
   "execution_count": 56,
   "metadata": {
    "execution": {
     "iopub.execute_input": "2025-01-12T20:46:06.301930Z",
     "iopub.status.busy": "2025-01-12T20:46:06.301561Z",
     "iopub.status.idle": "2025-01-12T20:46:06.307282Z",
     "shell.execute_reply": "2025-01-12T20:46:06.305986Z",
     "shell.execute_reply.started": "2025-01-12T20:46:06.301903Z"
    },
    "trusted": true
   },
   "outputs": [],
   "source": [
    "# Example usage\n",
    "query = \"How to control the mind?\"\n",
    "cost_per_query = 0.000 "
   ]
  },
  {
   "cell_type": "code",
   "execution_count": 57,
   "metadata": {
    "execution": {
     "iopub.execute_input": "2025-01-12T20:46:07.104386Z",
     "iopub.status.busy": "2025-01-12T20:46:07.104022Z",
     "iopub.status.idle": "2025-01-12T20:46:07.112527Z",
     "shell.execute_reply": "2025-01-12T20:46:07.111342Z",
     "shell.execute_reply.started": "2025-01-12T20:46:07.104357Z"
    },
    "trusted": true
   },
   "outputs": [
    {
     "name": "stdout",
     "output_type": "stream",
     "text": [
      "                                                                  Value\n",
      "Query                                          How to control the mind?\n",
      "Cost per Query                                                      0.0\n",
      "Evaluation Scores     {'Accuracy of Retrieved Verse': 4, 'Contextual...\n",
      "Weighted Scores       {'Accuracy of Retrieved Verse': 1.2, 'Contextu...\n",
      "Total Weighted Score                                                4.4\n"
     ]
    }
   ],
   "source": [
    "# Evaluate\n",
    "evaluation_results = evaluate_pipeline(query, retrieved_shlokas, summary, cost_per_query, scores)\n",
    "\n",
    "# Display evaluation results as a DataFrame\n",
    "df_results = pd.DataFrame.from_dict(evaluation_results, orient='index', columns=['Value'])\n",
    "print(df_results)"
   ]
  },
  {
   "cell_type": "markdown",
   "metadata": {},
   "source": [
    "### Future Improvements\n",
    "- Enhanced summary generation with broader context\n",
    "- More sophisticated verse matching algorithms\n",
    "- Automated evaluation metrics\n",
    "- Extended multilingual support\n",
    "- User feedback integration"
   ]
  }
 ],
 "metadata": {
  "kaggle": {
   "accelerator": "none",
   "dataSources": [
    {
     "datasetId": 6389353,
     "sourceId": 10319937,
     "sourceType": "datasetVersion"
    },
    {
     "datasetId": 6470989,
     "sourceId": 10453440,
     "sourceType": "datasetVersion"
    },
    {
     "datasetId": 6470991,
     "sourceId": 10453443,
     "sourceType": "datasetVersion"
    }
   ],
   "dockerImageVersionId": 30822,
   "isGpuEnabled": false,
   "isInternetEnabled": true,
   "language": "python",
   "sourceType": "notebook"
  },
  "kernelspec": {
   "display_name": "Python 3",
   "language": "python",
   "name": "python3"
  },
  "language_info": {
   "codemirror_mode": {
    "name": "ipython",
    "version": 3
   },
   "file_extension": ".py",
   "mimetype": "text/x-python",
   "name": "python",
   "nbconvert_exporter": "python",
   "pygments_lexer": "ipython3",
   "version": "3.10.12"
  }
 },
 "nbformat": 4,
 "nbformat_minor": 4
}
